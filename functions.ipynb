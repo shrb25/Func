{
 "cells": [
  {
   "cell_type": "code",
   "execution_count": 1,
   "id": "75379c3d-9426-46d9-af29-c825297e22f8",
   "metadata": {},
   "outputs": [
    {
     "name": "stdout",
     "output_type": "stream",
     "text": [
      "hello world\n"
     ]
    }
   ],
   "source": [
    "# 1. write a hello world program?\n",
    "print(\"hello world\")"
   ]
  },
  {
   "cell_type": "code",
   "execution_count": 3,
   "id": "17626fb2-4cf5-4c82-ac65-a032d8852988",
   "metadata": {},
   "outputs": [
    {
     "data": {
      "text/plain": [
       "'\\nq1. what is a function?\\na1. answer to functions.\\n'"
      ]
     },
     "execution_count": 3,
     "metadata": {},
     "output_type": "execute_result"
    }
   ],
   "source": [
    "# Functions\n",
    "\"\"\"\n",
    "q1. what is a function?\n",
    "a1. answer to functions.\n",
    "\"\"\""
   ]
  },
  {
   "cell_type": "code",
   "execution_count": null,
   "id": "7c5475a7-41d3-4e0a-b1ad-63cf552031c7",
   "metadata": {},
   "outputs": [],
   "source": []
  }
 ],
 "metadata": {
  "kernelspec": {
   "display_name": "Python 3 (ipykernel)",
   "language": "python",
   "name": "python3"
  },
  "language_info": {
   "codemirror_mode": {
    "name": "ipython",
    "version": 3
   },
   "file_extension": ".py",
   "mimetype": "text/x-python",
   "name": "python",
   "nbconvert_exporter": "python",
   "pygments_lexer": "ipython3",
   "version": "3.12.7"
  }
 },
 "nbformat": 4,
 "nbformat_minor": 5
}
